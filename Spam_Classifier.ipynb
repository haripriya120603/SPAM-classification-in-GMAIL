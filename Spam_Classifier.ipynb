{
  "cells": [
    {
      "cell_type": "markdown",
      "metadata": {
        "id": "view-in-github",
        "colab_type": "text"
      },
      "source": [
        "<a href=\"https://colab.research.google.com/github/haripriya120603/SPAM-classification-in-GMAIL/blob/main/Spam_Classifier.ipynb\" target=\"_parent\"><img src=\"https://colab.research.google.com/assets/colab-badge.svg\" alt=\"Open In Colab\"/></a>"
      ]
    },
    {
      "cell_type": "code",
      "execution_count": null,
      "metadata": {
        "id": "biS-oxVBHI2M"
      },
      "outputs": [],
      "source": [
        "### Understanding data set\n",
        "import pandas as pd\n",
        "import numpy as np\n",
        "import spacy"
      ]
    },
    {
      "cell_type": "code",
      "execution_count": null,
      "metadata": {
        "id": "hdtmKcn3HI2O"
      },
      "outputs": [],
      "source": [
        "\n",
        "nlp = spacy.load('en_core_web_sm')"
      ]
    },
    {
      "cell_type": "code",
      "execution_count": null,
      "metadata": {
        "id": "D1Bfg-NPHI2O"
      },
      "outputs": [],
      "source": [
        "\n",
        "data = pd.read_csv('https://techlearn-cdn.s3.amazonaws.com/project_GmailSpamClassification/spam.csv',encoding='cp1252')"
      ]
    },
    {
      "cell_type": "code",
      "execution_count": null,
      "metadata": {
        "id": "mNt1VgVfHI2P"
      },
      "outputs": [],
      "source": [
        "\n",
        "data.head()"
      ]
    },
    {
      "cell_type": "code",
      "execution_count": null,
      "metadata": {
        "id": "o8qvJS2oHI2P"
      },
      "outputs": [],
      "source": [
        "\n",
        "data = data[['v1','v2']]"
      ]
    },
    {
      "cell_type": "code",
      "execution_count": null,
      "metadata": {
        "id": "hEmw89aEHI2Q"
      },
      "outputs": [],
      "source": [
        "\n",
        "data['v1'] = data['v1'].apply(lambda x:0 if x=='ham' else 1)"
      ]
    },
    {
      "cell_type": "code",
      "execution_count": null,
      "metadata": {
        "id": "qJ5VPEvoHI2R"
      },
      "outputs": [],
      "source": [
        "\n",
        "data"
      ]
    },
    {
      "cell_type": "code",
      "execution_count": null,
      "metadata": {
        "id": "Qe9uLC3xHI2R"
      },
      "outputs": [],
      "source": [
        ""
      ]
    },
    {
      "cell_type": "code",
      "execution_count": null,
      "metadata": {
        "id": "hCZd-IlnHI2S"
      },
      "outputs": [],
      "source": [
        "### Demo 2 - Text Pre-Processing\n",
        "def process(x):\n",
        "    temp = []\n",
        "    document = nlp(x.lower())\n",
        "    print(document)\n",
        "    for i in document:\n",
        "        if i.is_stop!=True and i.is_punct!= True:\n",
        "            print(i)\n",
        "            temp.append(i.lemma_)\n",
        "            print(temp)\n",
        "        else:\n",
        "            pass\n",
        "        \n",
        "    return (' '.join(temp))\n",
        "##"
      ]
    },
    {
      "cell_type": "code",
      "execution_count": null,
      "metadata": {
        "id": "bRww6-fUHI2T"
      },
      "outputs": [],
      "source": [
        ""
      ]
    },
    {
      "cell_type": "code",
      "execution_count": null,
      "metadata": {
        "id": "DuqWBGjEHI2U"
      },
      "outputs": [],
      "source": [
        "\n",
        "data['v2'] = data['v2'].apply(lambda x: process(x))"
      ]
    },
    {
      "cell_type": "code",
      "execution_count": null,
      "metadata": {
        "id": "WxgzECbmHI2U"
      },
      "outputs": [],
      "source": [
        "\n",
        "data.head()"
      ]
    },
    {
      "cell_type": "code",
      "execution_count": null,
      "metadata": {
        "id": "jY2_AJKnHI2V"
      },
      "outputs": [],
      "source": [
        "\n",
        "from sklearn.feature_extraction.text import TfidfVectorizer"
      ]
    },
    {
      "cell_type": "code",
      "execution_count": null,
      "metadata": {
        "id": "7fnfjPJSHI2V"
      },
      "outputs": [],
      "source": [
        "\n",
        "vectorizer = TfidfVectorizer(analyzer='word',stop_words='english')"
      ]
    },
    {
      "cell_type": "code",
      "execution_count": null,
      "metadata": {
        "id": "QrrVSm7fHI2W"
      },
      "outputs": [],
      "source": [
        "\n",
        "text_vector = vectorizer.fit_transform(data['v2'].values.tolist())"
      ]
    },
    {
      "cell_type": "code",
      "execution_count": null,
      "metadata": {
        "id": "wkAPWTQOHI2W"
      },
      "outputs": [],
      "source": [
        "\n",
        "print(text_vector)"
      ]
    },
    {
      "cell_type": "code",
      "execution_count": null,
      "metadata": {
        "id": "nFXqPRYWHI2W"
      },
      "outputs": [],
      "source": [
        "\n",
        "######Demo 3 - Splitting Data set"
      ]
    },
    {
      "cell_type": "code",
      "execution_count": null,
      "metadata": {
        "id": "NBbjtDQFHI2X"
      },
      "outputs": [],
      "source": [
        "\n",
        "from sklearn.model_selection import train_test_split"
      ]
    },
    {
      "cell_type": "code",
      "execution_count": null,
      "metadata": {
        "id": "pl9PKyBFHI2X"
      },
      "outputs": [],
      "source": [
        "\n",
        "x_train, x_test, y_train, y_test = train_test_split(text_vector.toarray(),data['v1'],test_size=0.2,random_state=20)"
      ]
    },
    {
      "cell_type": "code",
      "execution_count": null,
      "metadata": {
        "id": "o-hRg-BMHI2X"
      },
      "outputs": [],
      "source": [
        "\n",
        "len(x_test)"
      ]
    },
    {
      "cell_type": "code",
      "execution_count": null,
      "metadata": {
        "id": "Ug1QGAORHI2Y"
      },
      "outputs": [],
      "source": [
        "\n",
        "####Demo 4 - Model Building"
      ]
    },
    {
      "cell_type": "code",
      "execution_count": null,
      "metadata": {
        "id": "6mqO_3u_HI2Y"
      },
      "outputs": [],
      "source": [
        "from sklearn.naive_bayes import BernoulliNB"
      ]
    },
    {
      "cell_type": "code",
      "execution_count": null,
      "metadata": {
        "id": "bYHP0mBgHI2Y"
      },
      "outputs": [],
      "source": [
        "\n",
        "modelB = BernoulliNB()\n",
        "modelB.fit(x_train,y_train)\n",
        "print(modelB.score(x_train,y_train))"
      ]
    },
    {
      "cell_type": "code",
      "execution_count": null,
      "metadata": {
        "id": "In4qTvDjHI2Y"
      },
      "outputs": [],
      "source": [
        "\n",
        "y_predictedB = modelB.predict(x_test)"
      ]
    },
    {
      "cell_type": "code",
      "execution_count": null,
      "metadata": {
        "id": "7dtgoOp4HI2Z"
      },
      "outputs": [],
      "source": [
        "\n",
        "from sklearn.metrics import accuracy_score"
      ]
    },
    {
      "cell_type": "code",
      "execution_count": null,
      "metadata": {
        "id": "fzWxitylHI2Z"
      },
      "outputs": [],
      "source": [
        "print(accuracy_score(y_test,y_predictedB))"
      ]
    },
    {
      "cell_type": "code",
      "execution_count": null,
      "metadata": {
        "id": "k5tmmIg2HI2Z"
      },
      "outputs": [],
      "source": [
        "\n"
      ]
    }
  ],
  "metadata": {
    "kernelspec": {
      "display_name": "Python 3",
      "language": "python",
      "name": "python3"
    },
    "language_info": {
      "codemirror_mode": {
        "name": "ipython",
        "version": 3
      },
      "file_extension": ".py",
      "mimetype": "text/x-python",
      "name": "python",
      "nbconvert_exporter": "python",
      "pygments_lexer": "ipython3",
      "version": "3.7.4"
    },
    "colab": {
      "name": "Spam_Classifier.ipynb",
      "provenance": [],
      "include_colab_link": true
    }
  },
  "nbformat": 4,
  "nbformat_minor": 0
}